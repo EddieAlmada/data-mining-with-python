{
 "cells": [
  {
   "cell_type": "markdown",
   "metadata": {},
   "source": [
    "# Welcome to python data mining course! \n",
    "# In this tutorial we will talk about data wrangling. We will use a practical  dataset to do learn the following topics: "
   ]
  },
  {
   "cell_type": "markdown",
   "metadata": {},
   "source": [
    "## 1) Cleaning data\n",
    "#### 1. Filtering out noise\n",
    "#### 2. Making data available for analysis\n",
    "## 2) What is statistics?\n",
    "####   Simple statistics\n",
    "## 3)  Practical examples of data mining\n",
    "## 4)  Dataset examples \n"
   ]
  },
  {
   "cell_type": "markdown",
   "metadata": {},
   "source": [
    "## Section 1.1 Data Cleaning"
   ]
  },
  {
   "cell_type": "code",
   "execution_count": 1,
   "metadata": {
    "collapsed": true
   },
   "outputs": [],
   "source": [
    "import pandas as pd \n",
    "import seaborn as sns \n",
    "import numpy as np \n",
    "import matplotlib.pyplot as plt  \n",
    "\n",
    "%matplotlib  inline "
   ]
  },
  {
   "cell_type": "code",
   "execution_count": 6,
   "metadata": {
    "collapsed": true
   },
   "outputs": [],
   "source": [
    "df = pd.read_csv('single_family_home_values.csv') # zillow "
   ]
  },
  {
   "cell_type": "code",
   "execution_count": 9,
   "metadata": {},
   "outputs": [
    {
     "data": {
      "text/html": [
       "<div>\n",
       "<style scoped>\n",
       "    .dataframe tbody tr th:only-of-type {\n",
       "        vertical-align: middle;\n",
       "    }\n",
       "\n",
       "    .dataframe tbody tr th {\n",
       "        vertical-align: top;\n",
       "    }\n",
       "\n",
       "    .dataframe thead th {\n",
       "        text-align: right;\n",
       "    }\n",
       "</style>\n",
       "<table border=\"1\" class=\"dataframe\">\n",
       "  <thead>\n",
       "    <tr style=\"text-align: right;\">\n",
       "      <th></th>\n",
       "      <th>id</th>\n",
       "      <th>address</th>\n",
       "      <th>city</th>\n",
       "      <th>state</th>\n",
       "      <th>zipcode</th>\n",
       "      <th>latitude</th>\n",
       "      <th>longitude</th>\n",
       "      <th>bedrooms</th>\n",
       "      <th>bathrooms</th>\n",
       "      <th>rooms</th>\n",
       "      <th>squareFootage</th>\n",
       "      <th>lotSize</th>\n",
       "      <th>yearBuilt</th>\n",
       "      <th>lastSaleDate</th>\n",
       "      <th>lastSaleAmount</th>\n",
       "      <th>priorSaleDate</th>\n",
       "      <th>priorSaleAmount</th>\n",
       "      <th>estimated_value</th>\n",
       "    </tr>\n",
       "  </thead>\n",
       "  <tbody>\n",
       "    <tr>\n",
       "      <th>0</th>\n",
       "      <td>39525749</td>\n",
       "      <td>8171 E 84th Ave</td>\n",
       "      <td>Denver</td>\n",
       "      <td>CO</td>\n",
       "      <td>80022</td>\n",
       "      <td>39.84916</td>\n",
       "      <td>-104.893468</td>\n",
       "      <td>3</td>\n",
       "      <td>2.0</td>\n",
       "      <td>6</td>\n",
       "      <td>1378</td>\n",
       "      <td>9968</td>\n",
       "      <td>2003.0</td>\n",
       "      <td>2009-12-17</td>\n",
       "      <td>75000</td>\n",
       "      <td>2004-05-13</td>\n",
       "      <td>165700.0</td>\n",
       "      <td>239753</td>\n",
       "    </tr>\n",
       "    <tr>\n",
       "      <th>1</th>\n",
       "      <td>184578398</td>\n",
       "      <td>10556 Wheeling St</td>\n",
       "      <td>Denver</td>\n",
       "      <td>CO</td>\n",
       "      <td>80022</td>\n",
       "      <td>39.88802</td>\n",
       "      <td>-104.830930</td>\n",
       "      <td>2</td>\n",
       "      <td>2.0</td>\n",
       "      <td>6</td>\n",
       "      <td>1653</td>\n",
       "      <td>6970</td>\n",
       "      <td>2004.0</td>\n",
       "      <td>2004-09-23</td>\n",
       "      <td>216935</td>\n",
       "      <td>NaN</td>\n",
       "      <td>NaN</td>\n",
       "      <td>343963</td>\n",
       "    </tr>\n",
       "  </tbody>\n",
       "</table>\n",
       "</div>"
      ],
      "text/plain": [
       "          id            address    city state  zipcode  latitude   longitude  \\\n",
       "0   39525749    8171 E 84th Ave  Denver    CO    80022  39.84916 -104.893468   \n",
       "1  184578398  10556 Wheeling St  Denver    CO    80022  39.88802 -104.830930   \n",
       "\n",
       "   bedrooms  bathrooms  rooms  squareFootage  lotSize  yearBuilt lastSaleDate  \\\n",
       "0         3        2.0      6           1378     9968     2003.0   2009-12-17   \n",
       "1         2        2.0      6           1653     6970     2004.0   2004-09-23   \n",
       "\n",
       "   lastSaleAmount priorSaleDate  priorSaleAmount  estimated_value  \n",
       "0           75000    2004-05-13         165700.0           239753  \n",
       "1          216935           NaN              NaN           343963  "
      ]
     },
     "execution_count": 9,
     "metadata": {},
     "output_type": "execute_result"
    }
   ],
   "source": [
    "df.head(2)"
   ]
  },
  {
   "cell_type": "code",
   "execution_count": 8,
   "metadata": {},
   "outputs": [
    {
     "data": {
      "text/plain": [
       "(15000, 18)"
      ]
     },
     "execution_count": 8,
     "metadata": {},
     "output_type": "execute_result"
    }
   ],
   "source": [
    "df.shape "
   ]
  },
  {
   "cell_type": "code",
   "execution_count": 56,
   "metadata": {},
   "outputs": [
    {
     "name": "stdout",
     "output_type": "stream",
     "text": [
      "<class 'pandas.core.frame.DataFrame'>\n",
      "RangeIndex: 15000 entries, 0 to 14999\n",
      "Data columns (total 18 columns):\n",
      "id                 15000 non-null int64\n",
      "address            15000 non-null object\n",
      "city               15000 non-null object\n",
      "state              15000 non-null object\n",
      "zipcode            15000 non-null int64\n",
      "latitude           14985 non-null float64\n",
      "longitude          14985 non-null float64\n",
      "bedrooms           15000 non-null int64\n",
      "bathrooms          15000 non-null float64\n",
      "rooms              15000 non-null int64\n",
      "squareFootage      15000 non-null int64\n",
      "lotSize            15000 non-null int64\n",
      "yearBuilt          14999 non-null float64\n",
      "lastSaleDate       15000 non-null object\n",
      "lastSaleAmount     15000 non-null int64\n",
      "priorSaleDate      11173 non-null object\n",
      "priorSaleAmount    11287 non-null float64\n",
      "estimated_value    15000 non-null int64\n",
      "dtypes: float64(5), int64(8), object(5)\n",
      "memory usage: 2.1+ MB\n"
     ]
    }
   ],
   "source": [
    "df.info()   "
   ]
  },
  {
   "cell_type": "code",
   "execution_count": 57,
   "metadata": {},
   "outputs": [
    {
     "data": {
      "text/html": [
       "<div>\n",
       "<style>\n",
       "    .dataframe thead tr:only-child th {\n",
       "        text-align: right;\n",
       "    }\n",
       "\n",
       "    .dataframe thead th {\n",
       "        text-align: left;\n",
       "    }\n",
       "\n",
       "    .dataframe tbody tr th {\n",
       "        vertical-align: top;\n",
       "    }\n",
       "</style>\n",
       "<table border=\"1\" class=\"dataframe\">\n",
       "  <thead>\n",
       "    <tr style=\"text-align: right;\">\n",
       "      <th></th>\n",
       "      <th>id</th>\n",
       "      <th>zipcode</th>\n",
       "      <th>latitude</th>\n",
       "      <th>longitude</th>\n",
       "      <th>bedrooms</th>\n",
       "      <th>bathrooms</th>\n",
       "      <th>rooms</th>\n",
       "      <th>squareFootage</th>\n",
       "      <th>lotSize</th>\n",
       "      <th>yearBuilt</th>\n",
       "      <th>lastSaleAmount</th>\n",
       "      <th>priorSaleAmount</th>\n",
       "      <th>estimated_value</th>\n",
       "    </tr>\n",
       "  </thead>\n",
       "  <tbody>\n",
       "    <tr>\n",
       "      <th>count</th>\n",
       "      <td>1.500000e+04</td>\n",
       "      <td>15000.000000</td>\n",
       "      <td>14985.000000</td>\n",
       "      <td>14985.000000</td>\n",
       "      <td>15000.000000</td>\n",
       "      <td>15000.000000</td>\n",
       "      <td>15000.000000</td>\n",
       "      <td>15000.000000</td>\n",
       "      <td>15000.00000</td>\n",
       "      <td>14999.000000</td>\n",
       "      <td>1.500000e+04</td>\n",
       "      <td>1.128700e+04</td>\n",
       "      <td>1.500000e+04</td>\n",
       "    </tr>\n",
       "    <tr>\n",
       "      <th>mean</th>\n",
       "      <td>5.176229e+07</td>\n",
       "      <td>80204.919467</td>\n",
       "      <td>39.740538</td>\n",
       "      <td>-104.964076</td>\n",
       "      <td>2.708400</td>\n",
       "      <td>2.195067</td>\n",
       "      <td>6.164133</td>\n",
       "      <td>1514.504400</td>\n",
       "      <td>5820.76620</td>\n",
       "      <td>1929.517168</td>\n",
       "      <td>4.053563e+05</td>\n",
       "      <td>2.594350e+05</td>\n",
       "      <td>6.371625e+05</td>\n",
       "    </tr>\n",
       "    <tr>\n",
       "      <th>std</th>\n",
       "      <td>6.190876e+07</td>\n",
       "      <td>9.715263</td>\n",
       "      <td>0.023555</td>\n",
       "      <td>0.039788</td>\n",
       "      <td>0.897231</td>\n",
       "      <td>1.166279</td>\n",
       "      <td>1.958601</td>\n",
       "      <td>830.635999</td>\n",
       "      <td>3013.27947</td>\n",
       "      <td>29.937051</td>\n",
       "      <td>7.756998e+05</td>\n",
       "      <td>3.379387e+05</td>\n",
       "      <td>5.044185e+05</td>\n",
       "    </tr>\n",
       "    <tr>\n",
       "      <th>min</th>\n",
       "      <td>1.433670e+05</td>\n",
       "      <td>80022.000000</td>\n",
       "      <td>39.614531</td>\n",
       "      <td>-105.108440</td>\n",
       "      <td>0.000000</td>\n",
       "      <td>0.000000</td>\n",
       "      <td>0.000000</td>\n",
       "      <td>350.000000</td>\n",
       "      <td>278.00000</td>\n",
       "      <td>1874.000000</td>\n",
       "      <td>2.590000e+02</td>\n",
       "      <td>0.000000e+00</td>\n",
       "      <td>1.477670e+05</td>\n",
       "    </tr>\n",
       "    <tr>\n",
       "      <th>25%</th>\n",
       "      <td>1.004802e+07</td>\n",
       "      <td>80205.000000</td>\n",
       "      <td>39.727634</td>\n",
       "      <td>-104.978737</td>\n",
       "      <td>2.000000</td>\n",
       "      <td>1.000000</td>\n",
       "      <td>5.000000</td>\n",
       "      <td>986.000000</td>\n",
       "      <td>4620.00000</td>\n",
       "      <td>1907.000000</td>\n",
       "      <td>1.940000e+05</td>\n",
       "      <td>1.100000e+05</td>\n",
       "      <td>3.984348e+05</td>\n",
       "    </tr>\n",
       "    <tr>\n",
       "      <th>50%</th>\n",
       "      <td>2.563241e+07</td>\n",
       "      <td>80206.000000</td>\n",
       "      <td>39.748048</td>\n",
       "      <td>-104.957689</td>\n",
       "      <td>3.000000</td>\n",
       "      <td>2.000000</td>\n",
       "      <td>6.000000</td>\n",
       "      <td>1267.500000</td>\n",
       "      <td>5950.00000</td>\n",
       "      <td>1925.000000</td>\n",
       "      <td>3.200000e+05</td>\n",
       "      <td>2.100000e+05</td>\n",
       "      <td>5.183575e+05</td>\n",
       "    </tr>\n",
       "    <tr>\n",
       "      <th>75%</th>\n",
       "      <td>5.114222e+07</td>\n",
       "      <td>80207.000000</td>\n",
       "      <td>39.758214</td>\n",
       "      <td>-104.937522</td>\n",
       "      <td>3.000000</td>\n",
       "      <td>3.000000</td>\n",
       "      <td>7.000000</td>\n",
       "      <td>1766.250000</td>\n",
       "      <td>6270.00000</td>\n",
       "      <td>1949.000000</td>\n",
       "      <td>4.632000e+05</td>\n",
       "      <td>3.302400e+05</td>\n",
       "      <td>6.879692e+05</td>\n",
       "    </tr>\n",
       "    <tr>\n",
       "      <th>max</th>\n",
       "      <td>3.209481e+08</td>\n",
       "      <td>80209.000000</td>\n",
       "      <td>39.888020</td>\n",
       "      <td>-104.830930</td>\n",
       "      <td>15.000000</td>\n",
       "      <td>12.000000</td>\n",
       "      <td>39.000000</td>\n",
       "      <td>10907.000000</td>\n",
       "      <td>122839.00000</td>\n",
       "      <td>2016.000000</td>\n",
       "      <td>4.560000e+07</td>\n",
       "      <td>1.600000e+07</td>\n",
       "      <td>1.014531e+07</td>\n",
       "    </tr>\n",
       "  </tbody>\n",
       "</table>\n",
       "</div>"
      ],
      "text/plain": [
       "                 id       zipcode      latitude     longitude      bedrooms  \\\n",
       "count  1.500000e+04  15000.000000  14985.000000  14985.000000  15000.000000   \n",
       "mean   5.176229e+07  80204.919467     39.740538   -104.964076      2.708400   \n",
       "std    6.190876e+07      9.715263      0.023555      0.039788      0.897231   \n",
       "min    1.433670e+05  80022.000000     39.614531   -105.108440      0.000000   \n",
       "25%    1.004802e+07  80205.000000     39.727634   -104.978737      2.000000   \n",
       "50%    2.563241e+07  80206.000000     39.748048   -104.957689      3.000000   \n",
       "75%    5.114222e+07  80207.000000     39.758214   -104.937522      3.000000   \n",
       "max    3.209481e+08  80209.000000     39.888020   -104.830930     15.000000   \n",
       "\n",
       "          bathrooms         rooms  squareFootage       lotSize     yearBuilt  \\\n",
       "count  15000.000000  15000.000000   15000.000000   15000.00000  14999.000000   \n",
       "mean       2.195067      6.164133    1514.504400    5820.76620   1929.517168   \n",
       "std        1.166279      1.958601     830.635999    3013.27947     29.937051   \n",
       "min        0.000000      0.000000     350.000000     278.00000   1874.000000   \n",
       "25%        1.000000      5.000000     986.000000    4620.00000   1907.000000   \n",
       "50%        2.000000      6.000000    1267.500000    5950.00000   1925.000000   \n",
       "75%        3.000000      7.000000    1766.250000    6270.00000   1949.000000   \n",
       "max       12.000000     39.000000   10907.000000  122839.00000   2016.000000   \n",
       "\n",
       "       lastSaleAmount  priorSaleAmount  estimated_value  \n",
       "count    1.500000e+04     1.128700e+04     1.500000e+04  \n",
       "mean     4.053563e+05     2.594350e+05     6.371625e+05  \n",
       "std      7.756998e+05     3.379387e+05     5.044185e+05  \n",
       "min      2.590000e+02     0.000000e+00     1.477670e+05  \n",
       "25%      1.940000e+05     1.100000e+05     3.984348e+05  \n",
       "50%      3.200000e+05     2.100000e+05     5.183575e+05  \n",
       "75%      4.632000e+05     3.302400e+05     6.879692e+05  \n",
       "max      4.560000e+07     1.600000e+07     1.014531e+07  "
      ]
     },
     "execution_count": 57,
     "metadata": {},
     "output_type": "execute_result"
    }
   ],
   "source": [
    "df.describe()"
   ]
  },
  {
   "cell_type": "code",
   "execution_count": 11,
   "metadata": {
    "collapsed": true
   },
   "outputs": [],
   "source": [
    "df2= df.fillna(0)"
   ]
  },
  {
   "cell_type": "code",
   "execution_count": 12,
   "metadata": {
    "collapsed": true
   },
   "outputs": [],
   "source": [
    "#or \n",
    "df = df.fillna(df.mean()) "
   ]
  },
  {
   "cell_type": "code",
   "execution_count": 13,
   "metadata": {
    "collapsed": true
   },
   "outputs": [],
   "source": [
    "df.dropna(inplace=True) "
   ]
  },
  {
   "cell_type": "code",
   "execution_count": 14,
   "metadata": {},
   "outputs": [
    {
     "name": "stdout",
     "output_type": "stream",
     "text": [
      "<class 'pandas.core.frame.DataFrame'>\n",
      "Int64Index: 11173 entries, 0 to 14999\n",
      "Data columns (total 18 columns):\n",
      " #   Column           Non-Null Count  Dtype  \n",
      "---  ------           --------------  -----  \n",
      " 0   id               11173 non-null  int64  \n",
      " 1   address          11173 non-null  object \n",
      " 2   city             11173 non-null  object \n",
      " 3   state            11173 non-null  object \n",
      " 4   zipcode          11173 non-null  int64  \n",
      " 5   latitude         11173 non-null  float64\n",
      " 6   longitude        11173 non-null  float64\n",
      " 7   bedrooms         11173 non-null  int64  \n",
      " 8   bathrooms        11173 non-null  float64\n",
      " 9   rooms            11173 non-null  int64  \n",
      " 10  squareFootage    11173 non-null  int64  \n",
      " 11  lotSize          11173 non-null  int64  \n",
      " 12  yearBuilt        11173 non-null  float64\n",
      " 13  lastSaleDate     11173 non-null  object \n",
      " 14  lastSaleAmount   11173 non-null  int64  \n",
      " 15  priorSaleDate    11173 non-null  object \n",
      " 16  priorSaleAmount  11173 non-null  float64\n",
      " 17  estimated_value  11173 non-null  int64  \n",
      "dtypes: float64(5), int64(8), object(5)\n",
      "memory usage: 1.6+ MB\n"
     ]
    }
   ],
   "source": [
    "df.info()"
   ]
  },
  {
   "cell_type": "code",
   "execution_count": 15,
   "metadata": {},
   "outputs": [
    {
     "data": {
      "text/html": [
       "<div>\n",
       "<style scoped>\n",
       "    .dataframe tbody tr th:only-of-type {\n",
       "        vertical-align: middle;\n",
       "    }\n",
       "\n",
       "    .dataframe tbody tr th {\n",
       "        vertical-align: top;\n",
       "    }\n",
       "\n",
       "    .dataframe thead th {\n",
       "        text-align: right;\n",
       "    }\n",
       "</style>\n",
       "<table border=\"1\" class=\"dataframe\">\n",
       "  <thead>\n",
       "    <tr style=\"text-align: right;\">\n",
       "      <th></th>\n",
       "      <th>estimated_value</th>\n",
       "      <th>yearBuilt</th>\n",
       "      <th>priorSaleAmount</th>\n",
       "    </tr>\n",
       "  </thead>\n",
       "  <tbody>\n",
       "    <tr>\n",
       "      <th>0</th>\n",
       "      <td>239753</td>\n",
       "      <td>2003.0</td>\n",
       "      <td>165700.0</td>\n",
       "    </tr>\n",
       "    <tr>\n",
       "      <th>3</th>\n",
       "      <td>494073</td>\n",
       "      <td>1956.0</td>\n",
       "      <td>0.0</td>\n",
       "    </tr>\n",
       "  </tbody>\n",
       "</table>\n",
       "</div>"
      ],
      "text/plain": [
       "   estimated_value  yearBuilt  priorSaleAmount\n",
       "0           239753     2003.0         165700.0\n",
       "3           494073     1956.0              0.0"
      ]
     },
     "execution_count": 15,
     "metadata": {},
     "output_type": "execute_result"
    }
   ],
   "source": [
    "df[['estimated_value', 'yearBuilt', 'priorSaleAmount']].head(2)"
   ]
  },
  {
   "cell_type": "code",
   "execution_count": 16,
   "metadata": {},
   "outputs": [
    {
     "name": "stderr",
     "output_type": "stream",
     "text": [
      "c:\\Users\\almad\\anaconda3\\lib\\site-packages\\seaborn\\_decorators.py:36: FutureWarning: Pass the following variable as a keyword arg: x. From version 0.12, the only valid positional argument will be `data`, and passing other arguments without an explicit keyword will result in an error or misinterpretation.\n",
      "  warnings.warn(\n"
     ]
    },
    {
     "data": {
      "text/plain": [
       "<AxesSubplot:xlabel='estimated_value'>"
      ]
     },
     "execution_count": 16,
     "metadata": {},
     "output_type": "execute_result"
    },
    {
     "data": {
      "image/png": "[encoded data removed]",
      "text/plain": [
       "<Figure size 432x288 with 1 Axes>"
      ]
     },
     "metadata": {
      "needs_background": "light"
     },
     "output_type": "display_data"
    }
   ],
   "source": [
    "sns.boxplot(df.estimated_value)"
   ]
  },
  {
   "cell_type": "code",
   "execution_count": 17,
   "metadata": {
    "collapsed": true
   },
   "outputs": [],
   "source": [
    "df=df[df.estimated_value<=1000000] "
   ]
  },
  {
   "cell_type": "code",
   "execution_count": 18,
   "metadata": {},
   "outputs": [
    {
     "name": "stderr",
     "output_type": "stream",
     "text": [
      "c:\\Users\\almad\\anaconda3\\lib\\site-packages\\seaborn\\_decorators.py:36: FutureWarning: Pass the following variable as a keyword arg: x. From version 0.12, the only valid positional argument will be `data`, and passing other arguments without an explicit keyword will result in an error or misinterpretation.\n",
      "  warnings.warn(\n"
     ]
    },
    {
     "data": {
      "text/plain": [
       "<AxesSubplot:xlabel='estimated_value'>"
      ]
     },
     "execution_count": 18,
     "metadata": {},
     "output_type": "execute_result"
    },
    {
     "data": {
      "image/png": "[encoded data removed]",
      "text/plain": [
       "<Figure size 432x288 with 1 Axes>"
      ]
     },
     "metadata": {
      "needs_background": "light"
     },
     "output_type": "display_data"
    }
   ],
   "source": [
    "sns.boxplot(df.estimated_value)"
   ]
  },
  {
   "cell_type": "code",
   "execution_count": 19,
   "metadata": {},
   "outputs": [
    {
     "data": {
      "text/plain": [
       "<AxesSubplot:>"
      ]
     },
     "execution_count": 19,
     "metadata": {},
     "output_type": "execute_result"
    },
    {
     "data": {
      "image/png": "[encoded data removed]",
      "text/plain": [
       "<Figure size 432x288 with 1 Axes>"
      ]
     },
     "metadata": {
      "needs_background": "light"
     },
     "output_type": "display_data"
    }
   ],
   "source": [
    "df.estimated_value.hist()"
   ]
  },
  {
   "cell_type": "code",
   "execution_count": 20,
   "metadata": {},
   "outputs": [
    {
     "data": {
      "text/plain": [
       "array([80022, 80033, 80123, 80203, 80204, 80205, 80206, 80207, 80209],\n",
       "      dtype=int64)"
      ]
     },
     "execution_count": 20,
     "metadata": {},
     "output_type": "execute_result"
    }
   ],
   "source": [
    "df.zipcode.unique()"
   ]
  },
  {
   "cell_type": "code",
   "execution_count": 21,
   "metadata": {},
   "outputs": [
    {
     "data": {
      "text/html": [
       "<div>\n",
       "<style scoped>\n",
       "    .dataframe tbody tr th:only-of-type {\n",
       "        vertical-align: middle;\n",
       "    }\n",
       "\n",
       "    .dataframe tbody tr th {\n",
       "        vertical-align: top;\n",
       "    }\n",
       "\n",
       "    .dataframe thead th {\n",
       "        text-align: right;\n",
       "    }\n",
       "</style>\n",
       "<table border=\"1\" class=\"dataframe\">\n",
       "  <thead>\n",
       "    <tr style=\"text-align: right;\">\n",
       "      <th></th>\n",
       "      <th>id</th>\n",
       "      <th>address</th>\n",
       "      <th>city</th>\n",
       "      <th>state</th>\n",
       "      <th>zipcode</th>\n",
       "      <th>latitude</th>\n",
       "      <th>longitude</th>\n",
       "      <th>bedrooms</th>\n",
       "      <th>bathrooms</th>\n",
       "      <th>rooms</th>\n",
       "      <th>squareFootage</th>\n",
       "      <th>lotSize</th>\n",
       "      <th>yearBuilt</th>\n",
       "      <th>lastSaleDate</th>\n",
       "      <th>lastSaleAmount</th>\n",
       "      <th>priorSaleDate</th>\n",
       "      <th>priorSaleAmount</th>\n",
       "      <th>estimated_value</th>\n",
       "    </tr>\n",
       "  </thead>\n",
       "  <tbody>\n",
       "    <tr>\n",
       "      <th>13276</th>\n",
       "      <td>39512040</td>\n",
       "      <td>764 S York St</td>\n",
       "      <td>Denver</td>\n",
       "      <td>CO</td>\n",
       "      <td>80209</td>\n",
       "      <td>39.702607</td>\n",
       "      <td>-104.960243</td>\n",
       "      <td>3</td>\n",
       "      <td>4.0</td>\n",
       "      <td>7</td>\n",
       "      <td>2567</td>\n",
       "      <td>6250</td>\n",
       "      <td>2016.0</td>\n",
       "      <td>2012-07-23</td>\n",
       "      <td>420000</td>\n",
       "      <td>2010-11-29</td>\n",
       "      <td>385000.0</td>\n",
       "      <td>770622</td>\n",
       "    </tr>\n",
       "    <tr>\n",
       "      <th>13316</th>\n",
       "      <td>11586398</td>\n",
       "      <td>450 S Vine St</td>\n",
       "      <td>Denver</td>\n",
       "      <td>CO</td>\n",
       "      <td>80209</td>\n",
       "      <td>39.708351</td>\n",
       "      <td>-104.962546</td>\n",
       "      <td>3</td>\n",
       "      <td>5.0</td>\n",
       "      <td>7</td>\n",
       "      <td>2570</td>\n",
       "      <td>4680</td>\n",
       "      <td>2016.0</td>\n",
       "      <td>2015-02-11</td>\n",
       "      <td>571000</td>\n",
       "      <td>2007-01-03</td>\n",
       "      <td>399000.0</td>\n",
       "      <td>682810</td>\n",
       "    </tr>\n",
       "    <tr>\n",
       "      <th>13428</th>\n",
       "      <td>11586742</td>\n",
       "      <td>636 S Williams St</td>\n",
       "      <td>Denver</td>\n",
       "      <td>CO</td>\n",
       "      <td>80209</td>\n",
       "      <td>39.704969</td>\n",
       "      <td>-104.966025</td>\n",
       "      <td>3</td>\n",
       "      <td>5.0</td>\n",
       "      <td>6</td>\n",
       "      <td>2578</td>\n",
       "      <td>4680</td>\n",
       "      <td>2016.0</td>\n",
       "      <td>2015-07-22</td>\n",
       "      <td>637600</td>\n",
       "      <td>2007-02-02</td>\n",
       "      <td>481900.0</td>\n",
       "      <td>745777</td>\n",
       "    </tr>\n",
       "    <tr>\n",
       "      <th>13431</th>\n",
       "      <td>184305844</td>\n",
       "      <td>456 S High St</td>\n",
       "      <td>Denver</td>\n",
       "      <td>CO</td>\n",
       "      <td>80209</td>\n",
       "      <td>39.708197</td>\n",
       "      <td>-104.964857</td>\n",
       "      <td>3</td>\n",
       "      <td>5.0</td>\n",
       "      <td>10</td>\n",
       "      <td>3346</td>\n",
       "      <td>6240</td>\n",
       "      <td>2016.0</td>\n",
       "      <td>2016-01-11</td>\n",
       "      <td>725000</td>\n",
       "      <td>1993-07-15</td>\n",
       "      <td>124000.0</td>\n",
       "      <td>751361</td>\n",
       "    </tr>\n",
       "    <tr>\n",
       "      <th>13766</th>\n",
       "      <td>7652681</td>\n",
       "      <td>408 S Franklin St</td>\n",
       "      <td>Denver</td>\n",
       "      <td>CO</td>\n",
       "      <td>80209</td>\n",
       "      <td>39.709074</td>\n",
       "      <td>-104.968369</td>\n",
       "      <td>3</td>\n",
       "      <td>5.0</td>\n",
       "      <td>8</td>\n",
       "      <td>3367</td>\n",
       "      <td>5060</td>\n",
       "      <td>2015.0</td>\n",
       "      <td>2014-04-21</td>\n",
       "      <td>513486</td>\n",
       "      <td>2007-08-22</td>\n",
       "      <td>435000.0</td>\n",
       "      <td>709102</td>\n",
       "    </tr>\n",
       "    <tr>\n",
       "      <th>13812</th>\n",
       "      <td>39708952</td>\n",
       "      <td>611 S Washington St</td>\n",
       "      <td>Denver</td>\n",
       "      <td>CO</td>\n",
       "      <td>80209</td>\n",
       "      <td>39.705403</td>\n",
       "      <td>-104.979580</td>\n",
       "      <td>3</td>\n",
       "      <td>4.0</td>\n",
       "      <td>10</td>\n",
       "      <td>2090</td>\n",
       "      <td>4690</td>\n",
       "      <td>2014.0</td>\n",
       "      <td>2015-03-09</td>\n",
       "      <td>825000</td>\n",
       "      <td>2013-07-19</td>\n",
       "      <td>325500.0</td>\n",
       "      <td>994114</td>\n",
       "    </tr>\n",
       "    <tr>\n",
       "      <th>14162</th>\n",
       "      <td>30566405</td>\n",
       "      <td>876 S Williams St</td>\n",
       "      <td>Denver</td>\n",
       "      <td>CO</td>\n",
       "      <td>80209</td>\n",
       "      <td>39.700646</td>\n",
       "      <td>-104.966016</td>\n",
       "      <td>3</td>\n",
       "      <td>1.0</td>\n",
       "      <td>8</td>\n",
       "      <td>3394</td>\n",
       "      <td>6250</td>\n",
       "      <td>2015.0</td>\n",
       "      <td>2014-03-18</td>\n",
       "      <td>675000</td>\n",
       "      <td>2006-05-11</td>\n",
       "      <td>511000.0</td>\n",
       "      <td>869769</td>\n",
       "    </tr>\n",
       "    <tr>\n",
       "      <th>14982</th>\n",
       "      <td>43208991</td>\n",
       "      <td>731 S Elizabeth St</td>\n",
       "      <td>Denver</td>\n",
       "      <td>CO</td>\n",
       "      <td>80209</td>\n",
       "      <td>39.703135</td>\n",
       "      <td>-104.956141</td>\n",
       "      <td>2</td>\n",
       "      <td>3.0</td>\n",
       "      <td>6</td>\n",
       "      <td>2680</td>\n",
       "      <td>6160</td>\n",
       "      <td>2016.0</td>\n",
       "      <td>2015-03-31</td>\n",
       "      <td>485000</td>\n",
       "      <td>2003-06-19</td>\n",
       "      <td>357500.0</td>\n",
       "      <td>753935</td>\n",
       "    </tr>\n",
       "  </tbody>\n",
       "</table>\n",
       "</div>"
      ],
      "text/plain": [
       "              id              address    city state  zipcode   latitude  \\\n",
       "13276   39512040        764 S York St  Denver    CO    80209  39.702607   \n",
       "13316   11586398        450 S Vine St  Denver    CO    80209  39.708351   \n",
       "13428   11586742    636 S Williams St  Denver    CO    80209  39.704969   \n",
       "13431  184305844        456 S High St  Denver    CO    80209  39.708197   \n",
       "13766    7652681    408 S Franklin St  Denver    CO    80209  39.709074   \n",
       "13812   39708952  611 S Washington St  Denver    CO    80209  39.705403   \n",
       "14162   30566405    876 S Williams St  Denver    CO    80209  39.700646   \n",
       "14982   43208991   731 S Elizabeth St  Denver    CO    80209  39.703135   \n",
       "\n",
       "        longitude  bedrooms  bathrooms  rooms  squareFootage  lotSize  \\\n",
       "13276 -104.960243         3        4.0      7           2567     6250   \n",
       "13316 -104.962546         3        5.0      7           2570     4680   \n",
       "13428 -104.966025         3        5.0      6           2578     4680   \n",
       "13431 -104.964857         3        5.0     10           3346     6240   \n",
       "13766 -104.968369         3        5.0      8           3367     5060   \n",
       "13812 -104.979580         3        4.0     10           2090     4690   \n",
       "14162 -104.966016         3        1.0      8           3394     6250   \n",
       "14982 -104.956141         2        3.0      6           2680     6160   \n",
       "\n",
       "       yearBuilt lastSaleDate  lastSaleAmount priorSaleDate  priorSaleAmount  \\\n",
       "13276     2016.0   2012-07-23          420000    2010-11-29         385000.0   \n",
       "13316     2016.0   2015-02-11          571000    2007-01-03         399000.0   \n",
       "13428     2016.0   2015-07-22          637600    2007-02-02         481900.0   \n",
       "13431     2016.0   2016-01-11          725000    1993-07-15         124000.0   \n",
       "13766     2015.0   2014-04-21          513486    2007-08-22         435000.0   \n",
       "13812     2014.0   2015-03-09          825000    2013-07-19         325500.0   \n",
       "14162     2015.0   2014-03-18          675000    2006-05-11         511000.0   \n",
       "14982     2016.0   2015-03-31          485000    2003-06-19         357500.0   \n",
       "\n",
       "       estimated_value  \n",
       "13276           770622  \n",
       "13316           682810  \n",
       "13428           745777  \n",
       "13431           751361  \n",
       "13766           709102  \n",
       "13812           994114  \n",
       "14162           869769  \n",
       "14982           753935  "
      ]
     },
     "execution_count": 21,
     "metadata": {},
     "output_type": "execute_result"
    }
   ],
   "source": [
    "#filter out noise, slice df\n",
    "\n",
    "df[(df.estimated_value<=1000000)  &  (df.yearBuilt>2013) &  (df.zipcode==80209)] "
   ]
  },
  {
   "cell_type": "markdown",
   "metadata": {},
   "source": [
    "## What is statistics?"
   ]
  },
  {
   "cell_type": "code",
   "execution_count": 22,
   "metadata": {},
   "outputs": [
    {
     "data": {
      "text/html": [
       "<div>\n",
       "<style scoped>\n",
       "    .dataframe tbody tr th:only-of-type {\n",
       "        vertical-align: middle;\n",
       "    }\n",
       "\n",
       "    .dataframe tbody tr th {\n",
       "        vertical-align: top;\n",
       "    }\n",
       "\n",
       "    .dataframe thead th {\n",
       "        text-align: right;\n",
       "    }\n",
       "</style>\n",
       "<table border=\"1\" class=\"dataframe\">\n",
       "  <thead>\n",
       "    <tr style=\"text-align: right;\">\n",
       "      <th></th>\n",
       "      <th>id</th>\n",
       "      <th>zipcode</th>\n",
       "      <th>latitude</th>\n",
       "      <th>longitude</th>\n",
       "      <th>bedrooms</th>\n",
       "      <th>bathrooms</th>\n",
       "      <th>rooms</th>\n",
       "      <th>squareFootage</th>\n",
       "      <th>lotSize</th>\n",
       "      <th>yearBuilt</th>\n",
       "      <th>lastSaleAmount</th>\n",
       "      <th>priorSaleAmount</th>\n",
       "      <th>estimated_value</th>\n",
       "    </tr>\n",
       "  </thead>\n",
       "  <tbody>\n",
       "    <tr>\n",
       "      <th>count</th>\n",
       "      <td>1.017100e+04</td>\n",
       "      <td>10171.000000</td>\n",
       "      <td>10171.000000</td>\n",
       "      <td>10171.000000</td>\n",
       "      <td>10171.000000</td>\n",
       "      <td>10171.000000</td>\n",
       "      <td>10171.000000</td>\n",
       "      <td>10171.000000</td>\n",
       "      <td>10171.000000</td>\n",
       "      <td>10171.000000</td>\n",
       "      <td>1.017100e+04</td>\n",
       "      <td>1.017100e+04</td>\n",
       "      <td>10171.000000</td>\n",
       "    </tr>\n",
       "    <tr>\n",
       "      <th>mean</th>\n",
       "      <td>4.234395e+07</td>\n",
       "      <td>80204.799626</td>\n",
       "      <td>39.743365</td>\n",
       "      <td>-104.964329</td>\n",
       "      <td>2.593747</td>\n",
       "      <td>1.980877</td>\n",
       "      <td>5.807099</td>\n",
       "      <td>1303.863337</td>\n",
       "      <td>5453.899715</td>\n",
       "      <td>1926.648463</td>\n",
       "      <td>3.476098e+05</td>\n",
       "      <td>2.148174e+05</td>\n",
       "      <td>517474.243830</td>\n",
       "    </tr>\n",
       "    <tr>\n",
       "      <th>std</th>\n",
       "      <td>5.565830e+07</td>\n",
       "      <td>9.475703</td>\n",
       "      <td>0.022681</td>\n",
       "      <td>0.041111</td>\n",
       "      <td>0.790141</td>\n",
       "      <td>0.846912</td>\n",
       "      <td>1.519701</td>\n",
       "      <td>484.484266</td>\n",
       "      <td>1703.966239</td>\n",
       "      <td>27.169542</td>\n",
       "      <td>4.955177e+05</td>\n",
       "      <td>1.663103e+05</td>\n",
       "      <td>161492.574507</td>\n",
       "    </tr>\n",
       "    <tr>\n",
       "      <th>min</th>\n",
       "      <td>1.433670e+05</td>\n",
       "      <td>80022.000000</td>\n",
       "      <td>39.614539</td>\n",
       "      <td>-105.108407</td>\n",
       "      <td>0.000000</td>\n",
       "      <td>0.000000</td>\n",
       "      <td>0.000000</td>\n",
       "      <td>350.000000</td>\n",
       "      <td>278.000000</td>\n",
       "      <td>1874.000000</td>\n",
       "      <td>5.000000e+02</td>\n",
       "      <td>0.000000e+00</td>\n",
       "      <td>147767.000000</td>\n",
       "    </tr>\n",
       "    <tr>\n",
       "      <th>25%</th>\n",
       "      <td>7.663140e+06</td>\n",
       "      <td>80205.000000</td>\n",
       "      <td>39.730561</td>\n",
       "      <td>-104.980246</td>\n",
       "      <td>2.000000</td>\n",
       "      <td>1.000000</td>\n",
       "      <td>5.000000</td>\n",
       "      <td>959.000000</td>\n",
       "      <td>4460.000000</td>\n",
       "      <td>1906.000000</td>\n",
       "      <td>2.116000e+05</td>\n",
       "      <td>1.100000e+05</td>\n",
       "      <td>392567.500000</td>\n",
       "    </tr>\n",
       "    <tr>\n",
       "      <th>50%</th>\n",
       "      <td>1.996968e+07</td>\n",
       "      <td>80206.000000</td>\n",
       "      <td>39.750767</td>\n",
       "      <td>-104.957698</td>\n",
       "      <td>2.000000</td>\n",
       "      <td>2.000000</td>\n",
       "      <td>6.000000</td>\n",
       "      <td>1175.000000</td>\n",
       "      <td>5940.000000</td>\n",
       "      <td>1925.000000</td>\n",
       "      <td>3.250000e+05</td>\n",
       "      <td>2.000000e+05</td>\n",
       "      <td>489059.000000</td>\n",
       "    </tr>\n",
       "    <tr>\n",
       "      <th>75%</th>\n",
       "      <td>4.612650e+07</td>\n",
       "      <td>80207.000000</td>\n",
       "      <td>39.759390</td>\n",
       "      <td>-104.934231</td>\n",
       "      <td>3.000000</td>\n",
       "      <td>2.000000</td>\n",
       "      <td>7.000000</td>\n",
       "      <td>1556.000000</td>\n",
       "      <td>6250.000000</td>\n",
       "      <td>1949.000000</td>\n",
       "      <td>4.399000e+05</td>\n",
       "      <td>3.045750e+05</td>\n",
       "      <td>621336.500000</td>\n",
       "    </tr>\n",
       "    <tr>\n",
       "      <th>max</th>\n",
       "      <td>2.527298e+08</td>\n",
       "      <td>80209.000000</td>\n",
       "      <td>39.849160</td>\n",
       "      <td>-104.893468</td>\n",
       "      <td>9.000000</td>\n",
       "      <td>11.000000</td>\n",
       "      <td>21.000000</td>\n",
       "      <td>4695.000000</td>\n",
       "      <td>22400.000000</td>\n",
       "      <td>2016.000000</td>\n",
       "      <td>4.560000e+07</td>\n",
       "      <td>4.475900e+06</td>\n",
       "      <td>996677.000000</td>\n",
       "    </tr>\n",
       "  </tbody>\n",
       "</table>\n",
       "</div>"
      ],
      "text/plain": [
       "                 id       zipcode      latitude     longitude      bedrooms  \\\n",
       "count  1.017100e+04  10171.000000  10171.000000  10171.000000  10171.000000   \n",
       "mean   4.234395e+07  80204.799626     39.743365   -104.964329      2.593747   \n",
       "std    5.565830e+07      9.475703      0.022681      0.041111      0.790141   \n",
       "min    1.433670e+05  80022.000000     39.614539   -105.108407      0.000000   \n",
       "25%    7.663140e+06  80205.000000     39.730561   -104.980246      2.000000   \n",
       "50%    1.996968e+07  80206.000000     39.750767   -104.957698      2.000000   \n",
       "75%    4.612650e+07  80207.000000     39.759390   -104.934231      3.000000   \n",
       "max    2.527298e+08  80209.000000     39.849160   -104.893468      9.000000   \n",
       "\n",
       "          bathrooms         rooms  squareFootage       lotSize     yearBuilt  \\\n",
       "count  10171.000000  10171.000000   10171.000000  10171.000000  10171.000000   \n",
       "mean       1.980877      5.807099    1303.863337   5453.899715   1926.648463   \n",
       "std        0.846912      1.519701     484.484266   1703.966239     27.169542   \n",
       "min        0.000000      0.000000     350.000000    278.000000   1874.000000   \n",
       "25%        1.000000      5.000000     959.000000   4460.000000   1906.000000   \n",
       "50%        2.000000      6.000000    1175.000000   5940.000000   1925.000000   \n",
       "75%        2.000000      7.000000    1556.000000   6250.000000   1949.000000   \n",
       "max       11.000000     21.000000    4695.000000  22400.000000   2016.000000   \n",
       "\n",
       "       lastSaleAmount  priorSaleAmount  estimated_value  \n",
       "count    1.017100e+04     1.017100e+04     10171.000000  \n",
       "mean     3.476098e+05     2.148174e+05    517474.243830  \n",
       "std      4.955177e+05     1.663103e+05    161492.574507  \n",
       "min      5.000000e+02     0.000000e+00    147767.000000  \n",
       "25%      2.116000e+05     1.100000e+05    392567.500000  \n",
       "50%      3.250000e+05     2.000000e+05    489059.000000  \n",
       "75%      4.399000e+05     3.045750e+05    621336.500000  \n",
       "max      4.560000e+07     4.475900e+06    996677.000000  "
      ]
     },
     "execution_count": 22,
     "metadata": {},
     "output_type": "execute_result"
    }
   ],
   "source": [
    "df.describe() "
   ]
  },
  {
   "cell_type": "code",
   "execution_count": 23,
   "metadata": {},
   "outputs": [
    {
     "name": "stdout",
     "output_type": "stream",
     "text": [
      "<class 'pandas.core.frame.DataFrame'>\n",
      "Int64Index: 10171 entries, 0 to 14996\n",
      "Data columns (total 18 columns):\n",
      " #   Column           Non-Null Count  Dtype  \n",
      "---  ------           --------------  -----  \n",
      " 0   id               10171 non-null  int64  \n",
      " 1   address          10171 non-null  object \n",
      " 2   city             10171 non-null  object \n",
      " 3   state            10171 non-null  object \n",
      " 4   zipcode          10171 non-null  int64  \n",
      " 5   latitude         10171 non-null  float64\n",
      " 6   longitude        10171 non-null  float64\n",
      " 7   bedrooms         10171 non-null  int64  \n",
      " 8   bathrooms        10171 non-null  float64\n",
      " 9   rooms            10171 non-null  int64  \n",
      " 10  squareFootage    10171 non-null  int64  \n",
      " 11  lotSize          10171 non-null  int64  \n",
      " 12  yearBuilt        10171 non-null  float64\n",
      " 13  lastSaleDate     10171 non-null  object \n",
      " 14  lastSaleAmount   10171 non-null  int64  \n",
      " 15  priorSaleDate    10171 non-null  object \n",
      " 16  priorSaleAmount  10171 non-null  float64\n",
      " 17  estimated_value  10171 non-null  int64  \n",
      "dtypes: float64(5), int64(8), object(5)\n",
      "memory usage: 1.5+ MB\n"
     ]
    }
   ],
   "source": [
    "df.info()"
   ]
  },
  {
   "cell_type": "code",
   "execution_count": 24,
   "metadata": {},
   "outputs": [
    {
     "data": {
      "text/plain": [
       "<AxesSubplot:>"
      ]
     },
     "execution_count": 24,
     "metadata": {},
     "output_type": "execute_result"
    },
    {
     "data": {
      "image/png": "[encoded data removed]",
      "text/plain": [
       "<Figure size 432x288 with 1 Axes>"
      ]
     },
     "metadata": {
      "needs_background": "light"
     },
     "output_type": "display_data"
    }
   ],
   "source": [
    "df.estimated_value.hist()"
   ]
  },
  {
   "cell_type": "code",
   "execution_count": 25,
   "metadata": {},
   "outputs": [
    {
     "name": "stderr",
     "output_type": "stream",
     "text": [
      "c:\\Users\\almad\\anaconda3\\lib\\site-packages\\seaborn\\_decorators.py:36: FutureWarning: Pass the following variable as a keyword arg: x. From version 0.12, the only valid positional argument will be `data`, and passing other arguments without an explicit keyword will result in an error or misinterpretation.\n",
      "  warnings.warn(\n"
     ]
    },
    {
     "data": {
      "text/plain": [
       "<AxesSubplot:xlabel='estimated_value'>"
      ]
     },
     "execution_count": 25,
     "metadata": {},
     "output_type": "execute_result"
    },
    {
     "data": {
      "image/png": "[encoded data removed]",
      "text/plain": [
       "<Figure size 432x288 with 1 Axes>"
      ]
     },
     "metadata": {
      "needs_background": "light"
     },
     "output_type": "display_data"
    }
   ],
   "source": [
    "sns.boxplot(df.estimated_value)"
   ]
  },
  {
   "cell_type": "code",
   "execution_count": 29,
   "metadata": {
    "collapsed": true
   },
   "outputs": [],
   "source": [
    "df= df[df.lastSaleAmount<=1000000]"
   ]
  },
  {
   "cell_type": "code",
   "execution_count": 30,
   "metadata": {},
   "outputs": [
    {
     "name": "stderr",
     "output_type": "stream",
     "text": [
      "c:\\Users\\almad\\anaconda3\\lib\\site-packages\\seaborn\\distributions.py:305: UserWarning: Dataset has 0 variance; skipping density estimate.\n",
      "  warnings.warn(msg, UserWarning)\n",
      "c:\\Users\\almad\\anaconda3\\lib\\site-packages\\seaborn\\distributions.py:305: UserWarning: Dataset has 0 variance; skipping density estimate.\n",
      "  warnings.warn(msg, UserWarning)\n",
      "c:\\Users\\almad\\anaconda3\\lib\\site-packages\\seaborn\\distributions.py:305: UserWarning: Dataset has 0 variance; skipping density estimate.\n",
      "  warnings.warn(msg, UserWarning)\n",
      "c:\\Users\\almad\\anaconda3\\lib\\site-packages\\seaborn\\distributions.py:305: UserWarning: Dataset has 0 variance; skipping density estimate.\n",
      "  warnings.warn(msg, UserWarning)\n"
     ]
    },
    {
     "data": {
      "text/plain": [
       "<seaborn.axisgrid.PairGrid at 0x1b7666441f0>"
      ]
     },
     "execution_count": 30,
     "metadata": {},
     "output_type": "execute_result"
    },
    {
     "data": {
      "image/png": "[encoded data removed]",
      "text/plain": [
       "<Figure size 427.875x360 with 6 Axes>"
      ]
     },
     "metadata": {
      "needs_background": "light"
     },
     "output_type": "display_data"
    }
   ],
   "source": [
    "sns.pairplot(df[['lastSaleAmount', 'estimated_value', 'zipcode']], hue='zipcode')"
   ]
  },
  {
   "cell_type": "code",
   "execution_count": 31,
   "metadata": {},
   "outputs": [
    {
     "data": {
      "text/plain": [
       "<AxesSubplot:xlabel='zipcode', ylabel='estimated_value'>"
      ]
     },
     "execution_count": 31,
     "metadata": {},
     "output_type": "execute_result"
    },
    {
     "data": {
      "image/png": "[encoded data removed]",
      "text/plain": [
       "<Figure size 432x288 with 1 Axes>"
      ]
     },
     "metadata": {
      "needs_background": "light"
     },
     "output_type": "display_data"
    }
   ],
   "source": [
    "sns.stripplot(x=df.zipcode, y=df.estimated_value)"
   ]
  },
  {
   "cell_type": "code",
   "execution_count": 32,
   "metadata": {},
   "outputs": [
    {
     "data": {
      "text/plain": [
       "<AxesSubplot:xlabel='zipcode', ylabel='estimated_value'>"
      ]
     },
     "execution_count": 32,
     "metadata": {},
     "output_type": "execute_result"
    },
    {
     "data": {
      "image/png": "[encoded data removed]",
      "text/plain": [
       "<Figure size 432x288 with 1 Axes>"
      ]
     },
     "metadata": {
      "needs_background": "light"
     },
     "output_type": "display_data"
    }
   ],
   "source": [
    "sns.violinplot(x=df.zipcode, y=df.estimated_value)"
   ]
  },
  {
   "cell_type": "code",
   "execution_count": 17,
   "metadata": {
    "collapsed": true
   },
   "outputs": [],
   "source": [
    "#df['yearBuild']=df.yearBuilt.astype(str)"
   ]
  },
  {
   "cell_type": "code",
   "execution_count": 33,
   "metadata": {
    "collapsed": true
   },
   "outputs": [],
   "source": [
    "df['priorSaleDate'] = pd.to_datetime(df.priorSaleDate) "
   ]
  },
  {
   "cell_type": "code",
   "execution_count": 34,
   "metadata": {
    "collapsed": true
   },
   "outputs": [],
   "source": [
    "df['lastSaleDate'] = pd.to_datetime(df.lastSaleDate) "
   ]
  },
  {
   "cell_type": "code",
   "execution_count": 35,
   "metadata": {
    "collapsed": true
   },
   "outputs": [],
   "source": [
    "df['weekday_lastSaleDate'] = df.lastSaleDate.dt.weekday\n",
    "df['year_lastSaleDate'] = df.lastSaleDate.dt.year"
   ]
  },
  {
   "cell_type": "code",
   "execution_count": 36,
   "metadata": {
    "collapsed": true
   },
   "outputs": [],
   "source": [
    "df['weekday_priorSaleDate'] = df.priorSaleDate.dt.weekday\n",
    "df['year_priorSaleDate'] = df.priorSaleDate.dt.year"
   ]
  },
  {
   "cell_type": "code",
   "execution_count": 37,
   "metadata": {
    "collapsed": true
   },
   "outputs": [],
   "source": [
    "df['year_between_last_sales']=df.year_lastSaleDate-df.year_priorSaleDate"
   ]
  },
  {
   "cell_type": "code",
   "execution_count": 38,
   "metadata": {},
   "outputs": [
    {
     "data": {
      "text/plain": [
       "estimated_value            1.000000\n",
       "lastSaleAmount             0.770623\n",
       "squareFootage              0.686779\n",
       "bathrooms                  0.647978\n",
       "rooms                      0.579084\n",
       "priorSaleAmount            0.566780\n",
       "bedrooms                   0.357315\n",
       "longitude                  0.234076\n",
       "id                         0.147236\n",
       "zipcode                    0.109585\n",
       "year_between_last_sales    0.085144\n",
       "year_lastSaleDate          0.037275\n",
       "weekday_lastSaleDate       0.000887\n",
       "weekday_priorSaleDate     -0.015108\n",
       "year_priorSaleDate        -0.058705\n",
       "lotSize                   -0.071141\n",
       "latitude                  -0.200207\n",
       "yearBuilt                 -0.256224\n",
       "Name: estimated_value, dtype: float64"
      ]
     },
     "execution_count": 38,
     "metadata": {},
     "output_type": "execute_result"
    }
   ],
   "source": [
    "df.corr().loc[ 'estimated_value' , : ].sort_values(ascending=False)"
   ]
  },
  {
   "cell_type": "markdown",
   "metadata": {},
   "source": [
    "## 3) Practical examples of data mining"
   ]
  },
  {
   "cell_type": "code",
   "execution_count": 136,
   "metadata": {
    "collapsed": true
   },
   "outputs": [],
   "source": [
    "#Group by \n",
    "df2= df.groupby('zipcode').estimated_value.median().reset_index()"
   ]
  },
  {
   "cell_type": "code",
   "execution_count": 141,
   "metadata": {
    "collapsed": true
   },
   "outputs": [],
   "source": [
    "df2.columns=['zipcode', 'median_value']"
   ]
  },
  {
   "cell_type": "code",
   "execution_count": 143,
   "metadata": {},
   "outputs": [
    {
     "data": {
      "text/html": [
       "<div>\n",
       "<style>\n",
       "    .dataframe thead tr:only-child th {\n",
       "        text-align: right;\n",
       "    }\n",
       "\n",
       "    .dataframe thead th {\n",
       "        text-align: left;\n",
       "    }\n",
       "\n",
       "    .dataframe tbody tr th {\n",
       "        vertical-align: top;\n",
       "    }\n",
       "</style>\n",
       "<table border=\"1\" class=\"dataframe\">\n",
       "  <thead>\n",
       "    <tr style=\"text-align: right;\">\n",
       "      <th></th>\n",
       "      <th>zipcode</th>\n",
       "      <th>median_value</th>\n",
       "    </tr>\n",
       "  </thead>\n",
       "  <tbody>\n",
       "    <tr>\n",
       "      <th>0</th>\n",
       "      <td>80022</td>\n",
       "      <td>239753.0</td>\n",
       "    </tr>\n",
       "    <tr>\n",
       "      <th>1</th>\n",
       "      <td>80033</td>\n",
       "      <td>494073.0</td>\n",
       "    </tr>\n",
       "    <tr>\n",
       "      <th>2</th>\n",
       "      <td>80123</td>\n",
       "      <td>427234.5</td>\n",
       "    </tr>\n",
       "    <tr>\n",
       "      <th>3</th>\n",
       "      <td>80203</td>\n",
       "      <td>560032.0</td>\n",
       "    </tr>\n",
       "    <tr>\n",
       "      <th>4</th>\n",
       "      <td>80204</td>\n",
       "      <td>352036.5</td>\n",
       "    </tr>\n",
       "    <tr>\n",
       "      <th>5</th>\n",
       "      <td>80205</td>\n",
       "      <td>465961.0</td>\n",
       "    </tr>\n",
       "    <tr>\n",
       "      <th>6</th>\n",
       "      <td>80206</td>\n",
       "      <td>685462.0</td>\n",
       "    </tr>\n",
       "    <tr>\n",
       "      <th>7</th>\n",
       "      <td>80207</td>\n",
       "      <td>451622.0</td>\n",
       "    </tr>\n",
       "    <tr>\n",
       "      <th>8</th>\n",
       "      <td>80209</td>\n",
       "      <td>674813.0</td>\n",
       "    </tr>\n",
       "  </tbody>\n",
       "</table>\n",
       "</div>"
      ],
      "text/plain": [
       "   zipcode  median_value\n",
       "0    80022      239753.0\n",
       "1    80033      494073.0\n",
       "2    80123      427234.5\n",
       "3    80203      560032.0\n",
       "4    80204      352036.5\n",
       "5    80205      465961.0\n",
       "6    80206      685462.0\n",
       "7    80207      451622.0\n",
       "8    80209      674813.0"
      ]
     },
     "execution_count": 143,
     "metadata": {},
     "output_type": "execute_result"
    }
   ],
   "source": [
    "df2"
   ]
  },
  {
   "cell_type": "code",
   "execution_count": null,
   "metadata": {
    "collapsed": true
   },
   "outputs": [],
   "source": [
    "# merge df "
   ]
  },
  {
   "cell_type": "code",
   "execution_count": 45,
   "metadata": {
    "collapsed": true
   },
   "outputs": [],
   "source": [
    "#pd.merge(df, df2, on='zipcode')"
   ]
  },
  {
   "cell_type": "code",
   "execution_count": 144,
   "metadata": {},
   "outputs": [
    {
     "data": {
      "text/html": [
       "<div>\n",
       "<style>\n",
       "    .dataframe thead tr:only-child th {\n",
       "        text-align: right;\n",
       "    }\n",
       "\n",
       "    .dataframe thead th {\n",
       "        text-align: left;\n",
       "    }\n",
       "\n",
       "    .dataframe tbody tr th {\n",
       "        vertical-align: top;\n",
       "    }\n",
       "</style>\n",
       "<table border=\"1\" class=\"dataframe\">\n",
       "  <thead>\n",
       "    <tr style=\"text-align: right;\">\n",
       "      <th></th>\n",
       "      <th>id</th>\n",
       "      <th>address</th>\n",
       "      <th>city</th>\n",
       "      <th>state</th>\n",
       "      <th>zipcode</th>\n",
       "      <th>latitude</th>\n",
       "      <th>longitude</th>\n",
       "      <th>bedrooms</th>\n",
       "      <th>bathrooms</th>\n",
       "      <th>rooms</th>\n",
       "      <th>...</th>\n",
       "      <th>lastSaleAmount</th>\n",
       "      <th>priorSaleDate</th>\n",
       "      <th>priorSaleAmount</th>\n",
       "      <th>estimated_value</th>\n",
       "      <th>new_col</th>\n",
       "      <th>weekday_lastSaleDate</th>\n",
       "      <th>year_lastSaleDate</th>\n",
       "      <th>weekday_priorSaleDate</th>\n",
       "      <th>year_priorSaleDate</th>\n",
       "      <th>year_between_last_sales</th>\n",
       "    </tr>\n",
       "  </thead>\n",
       "  <tbody>\n",
       "    <tr>\n",
       "      <th>0</th>\n",
       "      <td>39525749</td>\n",
       "      <td>8171 E 84th Ave</td>\n",
       "      <td>Denver</td>\n",
       "      <td>CO</td>\n",
       "      <td>80022</td>\n",
       "      <td>39.84916</td>\n",
       "      <td>-104.893468</td>\n",
       "      <td>3</td>\n",
       "      <td>2.0</td>\n",
       "      <td>6</td>\n",
       "      <td>...</td>\n",
       "      <td>75000</td>\n",
       "      <td>2004-05-13</td>\n",
       "      <td>165700.0</td>\n",
       "      <td>239753</td>\n",
       "      <td>1</td>\n",
       "      <td>3</td>\n",
       "      <td>2009</td>\n",
       "      <td>3</td>\n",
       "      <td>2004</td>\n",
       "      <td>5</td>\n",
       "    </tr>\n",
       "    <tr>\n",
       "      <th>3</th>\n",
       "      <td>155129946</td>\n",
       "      <td>3040 Wadsworth Blvd</td>\n",
       "      <td>Denver</td>\n",
       "      <td>CO</td>\n",
       "      <td>80033</td>\n",
       "      <td>39.76078</td>\n",
       "      <td>-105.081060</td>\n",
       "      <td>4</td>\n",
       "      <td>3.0</td>\n",
       "      <td>0</td>\n",
       "      <td>...</td>\n",
       "      <td>185000</td>\n",
       "      <td>2008-06-27</td>\n",
       "      <td>0.0</td>\n",
       "      <td>494073</td>\n",
       "      <td>1</td>\n",
       "      <td>1</td>\n",
       "      <td>2008</td>\n",
       "      <td>4</td>\n",
       "      <td>2008</td>\n",
       "      <td>0</td>\n",
       "    </tr>\n",
       "  </tbody>\n",
       "</table>\n",
       "<p>2 rows × 24 columns</p>\n",
       "</div>"
      ],
      "text/plain": [
       "          id              address    city state  zipcode  latitude  \\\n",
       "0   39525749      8171 E 84th Ave  Denver    CO    80022  39.84916   \n",
       "3  155129946  3040 Wadsworth Blvd  Denver    CO    80033  39.76078   \n",
       "\n",
       "    longitude  bedrooms  bathrooms  rooms           ...             \\\n",
       "0 -104.893468         3        2.0      6           ...              \n",
       "3 -105.081060         4        3.0      0           ...              \n",
       "\n",
       "   lastSaleAmount  priorSaleDate  priorSaleAmount estimated_value  new_col  \\\n",
       "0           75000     2004-05-13         165700.0          239753        1   \n",
       "3          185000     2008-06-27              0.0          494073        1   \n",
       "\n",
       "  weekday_lastSaleDate  year_lastSaleDate  weekday_priorSaleDate  \\\n",
       "0                    3               2009                      3   \n",
       "3                    1               2008                      4   \n",
       "\n",
       "   year_priorSaleDate  year_between_last_sales  \n",
       "0                2004                        5  \n",
       "3                2008                        0  \n",
       "\n",
       "[2 rows x 24 columns]"
      ]
     },
     "execution_count": 144,
     "metadata": {},
     "output_type": "execute_result"
    }
   ],
   "source": [
    "df.head(2)"
   ]
  },
  {
   "cell_type": "code",
   "execution_count": 145,
   "metadata": {
    "collapsed": true
   },
   "outputs": [],
   "source": [
    "df3 = pd.merge(df, df2, on='zipcode', how='left')"
   ]
  },
  {
   "cell_type": "code",
   "execution_count": 146,
   "metadata": {},
   "outputs": [
    {
     "data": {
      "text/html": [
       "<div>\n",
       "<style>\n",
       "    .dataframe thead tr:only-child th {\n",
       "        text-align: right;\n",
       "    }\n",
       "\n",
       "    .dataframe thead th {\n",
       "        text-align: left;\n",
       "    }\n",
       "\n",
       "    .dataframe tbody tr th {\n",
       "        vertical-align: top;\n",
       "    }\n",
       "</style>\n",
       "<table border=\"1\" class=\"dataframe\">\n",
       "  <thead>\n",
       "    <tr style=\"text-align: right;\">\n",
       "      <th></th>\n",
       "      <th>id</th>\n",
       "      <th>address</th>\n",
       "      <th>city</th>\n",
       "      <th>state</th>\n",
       "      <th>zipcode</th>\n",
       "      <th>latitude</th>\n",
       "      <th>longitude</th>\n",
       "      <th>bedrooms</th>\n",
       "      <th>bathrooms</th>\n",
       "      <th>rooms</th>\n",
       "      <th>...</th>\n",
       "      <th>priorSaleDate</th>\n",
       "      <th>priorSaleAmount</th>\n",
       "      <th>estimated_value</th>\n",
       "      <th>new_col</th>\n",
       "      <th>weekday_lastSaleDate</th>\n",
       "      <th>year_lastSaleDate</th>\n",
       "      <th>weekday_priorSaleDate</th>\n",
       "      <th>year_priorSaleDate</th>\n",
       "      <th>year_between_last_sales</th>\n",
       "      <th>median_value</th>\n",
       "    </tr>\n",
       "  </thead>\n",
       "  <tbody>\n",
       "    <tr>\n",
       "      <th>0</th>\n",
       "      <td>39525749</td>\n",
       "      <td>8171 E 84th Ave</td>\n",
       "      <td>Denver</td>\n",
       "      <td>CO</td>\n",
       "      <td>80022</td>\n",
       "      <td>39.84916</td>\n",
       "      <td>-104.893468</td>\n",
       "      <td>3</td>\n",
       "      <td>2.0</td>\n",
       "      <td>6</td>\n",
       "      <td>...</td>\n",
       "      <td>2004-05-13</td>\n",
       "      <td>165700.0</td>\n",
       "      <td>239753</td>\n",
       "      <td>1</td>\n",
       "      <td>3</td>\n",
       "      <td>2009</td>\n",
       "      <td>3</td>\n",
       "      <td>2004</td>\n",
       "      <td>5</td>\n",
       "      <td>239753.0</td>\n",
       "    </tr>\n",
       "    <tr>\n",
       "      <th>1</th>\n",
       "      <td>155129946</td>\n",
       "      <td>3040 Wadsworth Blvd</td>\n",
       "      <td>Denver</td>\n",
       "      <td>CO</td>\n",
       "      <td>80033</td>\n",
       "      <td>39.76078</td>\n",
       "      <td>-105.081060</td>\n",
       "      <td>4</td>\n",
       "      <td>3.0</td>\n",
       "      <td>0</td>\n",
       "      <td>...</td>\n",
       "      <td>2008-06-27</td>\n",
       "      <td>0.0</td>\n",
       "      <td>494073</td>\n",
       "      <td>1</td>\n",
       "      <td>1</td>\n",
       "      <td>2008</td>\n",
       "      <td>4</td>\n",
       "      <td>2008</td>\n",
       "      <td>0</td>\n",
       "      <td>494073.0</td>\n",
       "    </tr>\n",
       "  </tbody>\n",
       "</table>\n",
       "<p>2 rows × 25 columns</p>\n",
       "</div>"
      ],
      "text/plain": [
       "          id              address    city state  zipcode  latitude  \\\n",
       "0   39525749      8171 E 84th Ave  Denver    CO    80022  39.84916   \n",
       "1  155129946  3040 Wadsworth Blvd  Denver    CO    80033  39.76078   \n",
       "\n",
       "    longitude  bedrooms  bathrooms  rooms      ...       priorSaleDate  \\\n",
       "0 -104.893468         3        2.0      6      ...          2004-05-13   \n",
       "1 -105.081060         4        3.0      0      ...          2008-06-27   \n",
       "\n",
       "   priorSaleAmount  estimated_value new_col  weekday_lastSaleDate  \\\n",
       "0         165700.0           239753       1                     3   \n",
       "1              0.0           494073       1                     1   \n",
       "\n",
       "  year_lastSaleDate  weekday_priorSaleDate  year_priorSaleDate  \\\n",
       "0              2009                      3                2004   \n",
       "1              2008                      4                2008   \n",
       "\n",
       "   year_between_last_sales  median_value  \n",
       "0                        5      239753.0  \n",
       "1                        0      494073.0  \n",
       "\n",
       "[2 rows x 25 columns]"
      ]
     },
     "execution_count": 146,
     "metadata": {},
     "output_type": "execute_result"
    }
   ],
   "source": [
    "df3.head(2)"
   ]
  },
  {
   "cell_type": "markdown",
   "metadata": {},
   "source": [
    "## 4)  Dataset examples "
   ]
  },
  {
   "cell_type": "markdown",
   "metadata": {},
   "source": [
    "### Kaggle: https://www.kaggle.com\n",
    "### Reddit: \n",
    "### Sklearn \n",
    "### Google! "
   ]
  },
  {
   "cell_type": "code",
   "execution_count": 28,
   "metadata": {},
   "outputs": [
    {
     "data": {
      "image/png": "[encoded data removed]",
      "text/plain": [
       "<matplotlib.figure.Figure at 0x1a200dbd90>"
      ]
     },
     "metadata": {},
     "output_type": "display_data"
    },
    {
     "data": {
      "image/png": "[encoded data removed]",
      "text/plain": [
       "<matplotlib.figure.Figure at 0x1a20031b10>"
      ]
     },
     "metadata": {},
     "output_type": "display_data"
    }
   ],
   "source": [
    "# From http://scikit-learn.org/stable/auto_examples/datasets/plot_iris_dataset.html \n",
    "# Code source: Gaël Varoquaux \n",
    "# Modified for documentation by Jaques Grobler\n",
    "# License: BSD 3 clause\n",
    "\n",
    "import matplotlib.pyplot as plt\n",
    "from mpl_toolkits.mplot3d import Axes3D\n",
    "from sklearn import datasets \n",
    "from sklearn.decomposition import PCA\n",
    "\n",
    "# import some data to play with\n",
    "iris = datasets.load_iris()\n",
    "X = iris.data[:, :2]  # we only take the first two features.\n",
    "y = iris.target\n",
    "\n",
    "x_min, x_max = X[:, 0].min() - .5, X[:, 0].max() + .5\n",
    "y_min, y_max = X[:, 1].min() - .5, X[:, 1].max() + .5\n",
    "\n",
    "plt.figure(2, figsize=(8, 6))\n",
    "plt.clf()\n",
    "\n",
    "# Plot the training points\n",
    "plt.scatter(X[:, 0], X[:, 1], c=y, cmap=plt.cm.Set1,\n",
    "            edgecolor='k')\n",
    "plt.xlabel('Sepal length')\n",
    "plt.ylabel('Sepal width')\n",
    "\n",
    "plt.xlim(x_min, x_max)\n",
    "plt.ylim(y_min, y_max)\n",
    "plt.xticks(())\n",
    "plt.yticks(())\n",
    "\n",
    "# To getter a better understanding of interaction of the dimensions\n",
    "# plot the first three PCA dimensions\n",
    "fig = plt.figure(1, figsize=(8, 6))\n",
    "ax = Axes3D(fig, elev=-150, azim=110)\n",
    "X_reduced = PCA(n_components=3).fit_transform(iris.data)\n",
    "ax.scatter(X_reduced[:, 0], X_reduced[:, 1], X_reduced[:, 2], c=y,\n",
    "           cmap=plt.cm.Set1, edgecolor='k', s=40)\n",
    "ax.set_title(\"First three PCA directions\")\n",
    "ax.set_xlabel(\"1st eigenvector\")\n",
    "ax.w_xaxis.set_ticklabels([])\n",
    "ax.set_ylabel(\"2nd eigenvector\")\n",
    "ax.w_yaxis.set_ticklabels([])\n",
    "ax.set_zlabel(\"3rd eigenvector\")\n",
    "ax.w_zaxis.set_ticklabels([])\n",
    "\n",
    "plt.show()"
   ]
  },
  {
   "cell_type": "code",
   "execution_count": null,
   "metadata": {
    "collapsed": true
   },
   "outputs": [],
   "source": []
  },
  {
   "cell_type": "markdown",
   "metadata": {
    "collapsed": true
   },
   "source": [
    "# Python Installations"
   ]
  },
  {
   "cell_type": "markdown",
   "metadata": {},
   "source": [
    "## 1) Install Anaconda \n",
    "https://www.anaconda.com/download/"
   ]
  },
  {
   "cell_type": "markdown",
   "metadata": {},
   "source": [
    "## 2) Install Jupyter Notebook \n",
    "https://jupyter.org/install"
   ]
  },
  {
   "cell_type": "markdown",
   "metadata": {},
   "source": [
    "## 3) To launch Notebook \n",
    "### In your terminal, enter\n",
    "### jupyter notebook "
   ]
  },
  {
   "cell_type": "markdown",
   "metadata": {},
   "source": [
    "## 4) Install Python Libraries\n",
    "### Conda install pandas \n",
    "### Conda install numpy "
   ]
  }
 ],
 "metadata": {
  "kernelspec": {
   "display_name": "base",
   "language": "python",
   "name": "python3"
  },
  "language_info": {
   "codemirror_mode": {
    "name": "ipython",
    "version": 3
   },
   "file_extension": ".py",
   "mimetype": "text/x-python",
   "name": "python",
   "nbconvert_exporter": "python",
   "pygments_lexer": "ipython3",
   "version": "3.8.3"
  }
 },
 "nbformat": 4,
 "nbformat_minor": 2
}
